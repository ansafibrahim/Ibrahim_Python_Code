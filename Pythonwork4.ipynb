{
  "nbformat": 4,
  "nbformat_minor": 0,
  "metadata": {
    "colab": {
      "provenance": [],
      "authorship_tag": "ABX9TyMAWFgxFq44+7at/kkljB8a",
      "include_colab_link": true
    },
    "kernelspec": {
      "name": "python3",
      "display_name": "Python 3"
    },
    "language_info": {
      "name": "python"
    }
  },
  "cells": [
    {
      "cell_type": "markdown",
      "metadata": {
        "id": "view-in-github",
        "colab_type": "text"
      },
      "source": [
        "<a href=\"https://colab.research.google.com/github/ansafibrahim/Ibrahim_Python_Code/blob/main/ICTDay4.ipynb\" target=\"_parent\"><img src=\"https://colab.research.google.com/assets/colab-badge.svg\" alt=\"Open In Colab\"/></a>"
      ]
    },
    {
      "cell_type": "markdown",
      "source": [
        " Write an interactive Python Program to implement following “Guess Game”\n",
        "i. Think of a number between 1 and 10 and store it in a variable called\n",
        "\"secretNumber\".\n",
        "ii. Ask the user to enter a number between 1 and 10 and store it in a variable called\n",
        "\"guess\".\n",
        "iii. Use control statements (if-else) to check if the guess is correct, higher, or lower\n",
        "than the secret number.\n",
        "iv. Display appropriate messages to the user based on their guess:\n",
        "• If the guess is correct, display \"Congratulations! You guessed the number\n",
        "correctly!\"\n",
        "• If the guess is higher than the secret number, display \"Too high! Try\n",
        "again.\"\n",
        "• If the guess is lower than the secret number, display \"Too low! Try again.\"\n",
        "v. Allow the user to keep guessing until they guess the correct number."
      ],
      "metadata": {
        "id": "dGztgPYMeLb4"
      }
    },
    {
      "cell_type": "code",
      "execution_count": 26,
      "metadata": {
        "colab": {
          "base_uri": "https://localhost:8080/"
        },
        "id": "NwVAHO1WeFRi",
        "outputId": "24bea7fa-181a-4c25-9985-b5df155b0c06"
      },
      "outputs": [
        {
          "name": "stdout",
          "output_type": "stream",
          "text": [
            "Enter your guess: 4\n",
            "Too low! Try again\n",
            "Enter your guess: 9\n",
            "Too high! Try again.\n",
            "Enter your guess: 7\n",
            "Too high! Try again.\n",
            "Enter your guess: 6\n",
            "Congratulations! You guessed the number correctly!\n",
            "Enter your guess: quit\n"
          ]
        }
      ],
      "source": [
        "import random\n",
        "secretNumber =random.randint(1,10)\n",
        "while True:\n",
        "  Guess = (input(\"Enter your guess: \"))\n",
        "  if Guess==\"quit\":\n",
        "    break\n",
        "  Guess=int(Guess)\n",
        "  if secretNumber==Guess:\n",
        "    print(\"Congratulations! You guessed the number correctly!\")\n",
        "  elif Guess>secretNumber:\n",
        "    print(\"Too high! Try again.\")\n",
        "  else:\n",
        "    print(\"Too low! Try again\")\n"
      ]
    },
    {
      "cell_type": "markdown",
      "source": [
        "Write a program to find and print the Factorial of this number. The Factorial of a positive\n",
        "integer N refers to the product of all number in the range from 1 to N."
      ],
      "metadata": {
        "id": "d88vOXNdon1u"
      }
    },
    {
      "cell_type": "code",
      "source": [
        "n = int (input (\"Enter a number: \"))\n",
        "factorial = 1\n",
        "if n >= 1:\n",
        "    for i in range (1, n+1):\n",
        "        factorial=factorial *i\n",
        "print(\"Factorial of the given number is: \", factorial)"
      ],
      "metadata": {
        "id": "KneVxFfnoLH3",
        "colab": {
          "base_uri": "https://localhost:8080/"
        },
        "outputId": "2b652f08-982e-40fe-9712-62d542cb57c1"
      },
      "execution_count": 27,
      "outputs": [
        {
          "output_type": "stream",
          "name": "stdout",
          "text": [
            "Enter a number: 4\n",
            "Factorial of the given number is:  24\n"
          ]
        }
      ]
    },
    {
      "cell_type": "markdown",
      "source": [],
      "metadata": {
        "id": "FhNyXPPnopGo"
      }
    },
    {
      "cell_type": "code",
      "source": [
        "L = int(input(\"Enter minimum dimension of the picture: \"))\n",
        "N = int(input(\"Enter the number of photos: \"))\n",
        "for i in range(N):\n",
        "    W=int(input(\"Enter width: \"))\n",
        "    H=int(input(\"Enter height: \"))\n",
        "    if W < L or H < L:\n",
        "        print(\"UPLOAD ANOTHER\")\n",
        "    elif W == H:\n",
        "        print(\"ACCEPTED\")\n",
        "    else:\n",
        "        print(\"CROP IT\")"
      ],
      "metadata": {
        "id": "DPkFCPouqBtJ",
        "colab": {
          "base_uri": "https://localhost:8080/"
        },
        "outputId": "e61070bb-8499-407d-e3be-aac03d4a27fc"
      },
      "execution_count": 29,
      "outputs": [
        {
          "output_type": "stream",
          "name": "stdout",
          "text": [
            "Enter minimum dimension of the picture: 22\n",
            "Enter the number of photos: 3\n",
            "Enter width: 11\n",
            "Enter height: 12\n",
            "UPLOAD ANOTHER\n",
            "Enter width: 11\n",
            "Enter height: 11\n",
            "UPLOAD ANOTHER\n",
            "Enter width: 22\n",
            "Enter height: 223\n",
            "CROP IT\n"
          ]
        }
      ]
    }
  ]
}
