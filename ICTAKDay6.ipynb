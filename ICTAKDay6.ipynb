{
  "nbformat": 4,
  "nbformat_minor": 0,
  "metadata": {
    "colab": {
      "provenance": [],
      "authorship_tag": "ABX9TyOevr54EssxoGIpKWhE6uxS",
      "include_colab_link": true
    },
    "kernelspec": {
      "name": "python3",
      "display_name": "Python 3"
    },
    "language_info": {
      "name": "python"
    }
  },
  "cells": [
    {
      "cell_type": "markdown",
      "metadata": {
        "id": "view-in-github",
        "colab_type": "text"
      },
      "source": [
        "<a href=\"https://colab.research.google.com/github/ansafibrahim/Ibrahim_Python_Code/blob/main/ICTAKDay6.ipynb\" target=\"_parent\"><img src=\"https://colab.research.google.com/assets/colab-badge.svg\" alt=\"Open In Colab\"/></a>"
      ]
    },
    {
      "cell_type": "markdown",
      "source": [
        "Write a function that returns the middle value among three integers.Write code to test this function with different inputs"
      ],
      "metadata": {
        "id": "mgjZC5Fsjn3o"
      }
    },
    {
      "cell_type": "code",
      "execution_count": 2,
      "metadata": {
        "colab": {
          "base_uri": "https://localhost:8080/"
        },
        "id": "Yx64xYYYjVc5",
        "outputId": "f027a32d-b203-4e97-d110-0a3247476bea"
      },
      "outputs": [
        {
          "output_type": "execute_result",
          "data": {
            "text/plain": [
              "10"
            ]
          },
          "metadata": {},
          "execution_count": 2
        }
      ],
      "source": [
        "def number1(a, b, c):\n",
        "    sorted_values = sorted([a, b, c])\n",
        "    return sorted_values[1]\n",
        "\n",
        "number1(10, 5, 20)\n"
      ]
    },
    {
      "cell_type": "markdown",
      "source": [
        "Build a calculator in Python using functions"
      ],
      "metadata": {
        "id": "xg1uQ1H3DqlQ"
      }
    },
    {
      "cell_type": "code",
      "source": [
        "def add(a, b):\n",
        "    return a + b\n",
        "\n",
        "def subtract(a, b):\n",
        "    return a - b\n",
        "\n",
        "def multiply(a, b):\n",
        "    return a * b\n",
        "\n",
        "def divide(a, b):\n",
        "    return a / b\n",
        "\n",
        "print(\"Select operation:\")\n",
        "print(\"1. Add\")\n",
        "print(\"2. Subtract\")\n",
        "print(\"3. Multiply\")\n",
        "print(\"4. Divide\")\n",
        "while True:\n",
        "    choice = input(\"Enter choice (1/2/3/4): \")\n",
        "\n",
        "    if choice in ('1', '2', '3', '4'):\n",
        "        num1 = float(input(\"Enter first number: \"))\n",
        "        num2 = float(input(\"Enter second number: \"))\n",
        "        if choice == '1':\n",
        "            print(\"Result:\", add(num1, num2))\n",
        "        elif choice == '2':\n",
        "            print(\"Result:\", subtract(num1, num2))\n",
        "        elif choice == '3':\n",
        "            print(\"Result:\", multiply(num1, num2))\n",
        "        elif choice == '4':\n",
        "            if num2 == 0:\n",
        "                print(\"Cannot divide by zero.\")\n",
        "            else:\n",
        "                print(\"Result:\", divide(num1, num2))\n",
        "    elif choice == 'quit':\n",
        "        break\n",
        "    else:\n",
        "        print(\"Invalid Input\")"
      ],
      "metadata": {
        "colab": {
          "base_uri": "https://localhost:8080/"
        },
        "id": "5wkQNZtHk7QO",
        "outputId": "1f47bfa2-fc55-4d65-ac14-f54dd59127ca"
      },
      "execution_count": 21,
      "outputs": [
        {
          "name": "stdout",
          "output_type": "stream",
          "text": [
            "Select operation:\n",
            "1. Add\n",
            "2. Subtract\n",
            "3. Multiply\n",
            "4. Divide\n",
            "Enter choice (1/2/3/4): 3\n",
            "Enter first number: 33\n",
            "Enter second number: 33\n",
            "Result: 1089.0\n",
            "Enter choice (1/2/3/4): quit\n"
          ]
        }
      ]
    },
    {
      "cell_type": "markdown",
      "source": [
        "Write a function that takes the lengths of the two shorter sides of a right triangle as its parameters. Return the hypotenuse of the triangle, computed using Pythagorean theorem,as the function’s result."
      ],
      "metadata": {
        "id": "dOANfzyvF81P"
      }
    },
    {
      "cell_type": "code",
      "source": [
        "def hypotenuse(a, b):\n",
        "    return (a**2 + b**2) ** 0.5\n",
        "hypotenuse(22,44)\n",
        "\n"
      ],
      "metadata": {
        "colab": {
          "base_uri": "https://localhost:8080/"
        },
        "id": "-7ZJou0JFymp",
        "outputId": "c7bdef28-ec33-4285-81fb-f50ad685e872"
      },
      "execution_count": 6,
      "outputs": [
        {
          "output_type": "execute_result",
          "data": {
            "text/plain": [
              "49.193495504995376"
            ]
          },
          "metadata": {},
          "execution_count": 6
        }
      ]
    },
    {
      "cell_type": "markdown",
      "source": [
        "The Rectangle problem\n",
        "(a) Write a Rectangle class in Python language, allowing you to build a rectangle with\n",
        "length and width attributes.\n",
        "(b) Create a Perimeter() method to calculate the perimeter of the rectangle and a Area()\n",
        "method to calculate the area of the rectangle.\n",
        "(c) Create a method display() that display the length, width, perimeter and area of an\n",
        "object created using an instantiation on rectangle class"
      ],
      "metadata": {
        "id": "VEo_WW5xH31Q"
      }
    },
    {
      "cell_type": "code",
      "source": [
        "class Rectangle:\n",
        "    def __init__(self, length, width):\n",
        "        self.length =length\n",
        "        self.width=width\n",
        "\n",
        "    def perimeter(self):\n",
        "        return 2*(self.length + self.width)\n",
        "\n",
        "    def area(self):\n",
        "        return self.length*self.width\n",
        "\n",
        "    def __repr__(self):\n",
        "        return f'Length:{self.length}\\nWidth:{self.width}\\nPerimeter:{self.perimeter()}\\nArea:{self.area()}'\n",
        "rect = Rectangle(22, 11)\n",
        "print(rect)"
      ],
      "metadata": {
        "colab": {
          "base_uri": "https://localhost:8080/"
        },
        "id": "nlpZjUYpH40V",
        "outputId": "e9ebb03d-8c47-4516-d143-36cd51202713"
      },
      "execution_count": 12,
      "outputs": [
        {
          "output_type": "stream",
          "name": "stdout",
          "text": [
            "Length:22\n",
            "Width:11\n",
            "Perimeter:66\n",
            "Area:242\n"
          ]
        }
      ]
    },
    {
      "cell_type": "markdown",
      "source": [
        "5. The Bank Account problem\n",
        "(a) Create a Python class called BankAccount which represents a bank account, having\n",
        "as attributes: accountNumber (numeric type), name (name of the account owner as\n",
        "string type), balance.\n",
        "(b) Create a constructor with parameters: accountNumber, name, balance.\n",
        "(c) Create a Deposit() method which manages the deposit actions.\n",
        "(d) Create a Withdrawal() method which manages withdrawals actions.\n",
        "(e) Create an bankFees() method to apply the bank fees with a percentage of 5% of the\n",
        "balance account.\n",
        "(f) Create a display() method to display account details."
      ],
      "metadata": {
        "id": "BrM5Ki-3de8I"
      }
    },
    {
      "cell_type": "code",
      "source": [
        "class BankAccount:\n",
        "    def __init__(self,accountNumber,name,balance):\n",
        "        self.accountNumber= accountNumber\n",
        "        self.name= name\n",
        "        self.balance =balance\n",
        "    def deposit(self, amount):\n",
        "        self.balance += amount\n",
        "        print(f\"Deposit of {amount} successfully made.\")\n",
        "    def withdrawal(self, amount):\n",
        "        if amount <= self.balance:\n",
        "            self.balance -= amount\n",
        "            print(f\"Withdrawal of {amount} successfully made.\")\n",
        "        else:\n",
        "            print(\"Insufficient funds.\")\n",
        "    def bankFees(self):\n",
        "        fee = self.balance * 0.05\n",
        "        self.balance -= fee\n",
        "        print(f\"Bank fees of {fee} deducted from the account.\")\n",
        "\n",
        "    def __repr__(self):\n",
        "        return f'accountNumber:{self.accountNumber}\\nname:{self.name}\\nbalance:{self.balance}'\n",
        "bank = BankAccount(1234, 'abc', 1000)\n",
        "bank.deposit(500)\n",
        "bank.withdrawal(200)\n",
        "bank.bankFees()\n",
        "print(bank)"
      ],
      "metadata": {
        "colab": {
          "base_uri": "https://localhost:8080/"
        },
        "id": "UGuAk5T4di4X",
        "outputId": "e0cc81c7-13d7-4567-d86d-61a3fc409d5e"
      },
      "execution_count": 16,
      "outputs": [
        {
          "output_type": "stream",
          "name": "stdout",
          "text": [
            "Deposit of 500 successfully made.\n",
            "Withdrawal of 200 successfully made.\n",
            "Bank fees of 65.0 deducted from the account.\n",
            "accountNumber:1234\n",
            "name:abc\n",
            "balance:1235.0\n"
          ]
        }
      ]
    }
  ]
}