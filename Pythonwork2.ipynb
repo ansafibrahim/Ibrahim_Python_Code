{
  "nbformat": 4,
  "nbformat_minor": 0,
  "metadata": {
    "colab": {
      "provenance": []
    },
    "kernelspec": {
      "name": "python3",
      "display_name": "Python 3"
    },
    "language_info": {
      "name": "python"
    }
  },
  "cells": [
    {
      "cell_type": "markdown",
      "source": [
        "Given the string \"Hello, World!\", extract and print the\n",
        "substring \"Hello\"."
      ],
      "metadata": {
        "id": "pjCCnQ7d18kZ"
      }
    },
    {
      "cell_type": "code",
      "execution_count": null,
      "metadata": {
        "colab": {
          "base_uri": "https://localhost:8080/"
        },
        "id": "Veo9rzkB1jCS",
        "outputId": "2d1cf72e-c471-4a40-a82d-1c25472f0289"
      },
      "outputs": [
        {
          "output_type": "stream",
          "name": "stdout",
          "text": [
            "Hello\n"
          ]
        }
      ],
      "source": [
        "string1 = \"Hello World\"\n",
        "string2 = string1[:5]\n",
        "print(string2)\n"
      ]
    },
    {
      "cell_type": "markdown",
      "source": [
        "Given the string \"Python is fun\", extract and print the substring \"is\""
      ],
      "metadata": {
        "id": "-YQJxmr63xhD"
      }
    },
    {
      "cell_type": "code",
      "source": [
        "text = \"Python is fun\"\n",
        "S = text[7:9]\n",
        "print(S)"
      ],
      "metadata": {
        "colab": {
          "base_uri": "https://localhost:8080/"
        },
        "id": "FPJGgiU13tES",
        "outputId": "e1718033-adb5-4546-a717-76793b9ec0c3"
      },
      "execution_count": null,
      "outputs": [
        {
          "output_type": "stream",
          "name": "stdout",
          "text": [
            "is\n"
          ]
        }
      ]
    },
    {
      "cell_type": "markdown",
      "source": [
        "Given the string \"Programming\", extract and print the substring \"gram\" using slicing indices."
      ],
      "metadata": {
        "id": "IGRJdA534NG0"
      }
    },
    {
      "cell_type": "code",
      "source": [
        "text2 = \"Programming\"\n",
        "text2[3:7]"
      ],
      "metadata": {
        "colab": {
          "base_uri": "https://localhost:8080/",
          "height": 36
        },
        "id": "ZSXU_S0h4LoE",
        "outputId": "97016d4e-b63d-404b-fbd7-a4b6d540e2dc"
      },
      "execution_count": null,
      "outputs": [
        {
          "output_type": "execute_result",
          "data": {
            "text/plain": [
              "'gram'"
            ],
            "application/vnd.google.colaboratory.intrinsic+json": {
              "type": "string"
            }
          },
          "metadata": {},
          "execution_count": 15
        }
      ]
    },
    {
      "cell_type": "markdown",
      "source": [
        "Given the string \"abcdefgh\", use slicing to print only the characters at even indices."
      ],
      "metadata": {
        "id": "2xdDFNK54ncd"
      }
    },
    {
      "cell_type": "code",
      "source": [
        "string3 = \"abcdefgh\"\n",
        "string3[1::2]"
      ],
      "metadata": {
        "colab": {
          "base_uri": "https://localhost:8080/",
          "height": 36
        },
        "id": "CX5dwlnj4r1o",
        "outputId": "b9dfd078-99f4-4d9d-9acc-02b32a7dd9a1"
      },
      "execution_count": null,
      "outputs": [
        {
          "output_type": "execute_result",
          "data": {
            "text/plain": [
              "'bdfh'"
            ],
            "application/vnd.google.colaboratory.intrinsic+json": {
              "type": "string"
            }
          },
          "metadata": {},
          "execution_count": 70
        }
      ]
    },
    {
      "cell_type": "markdown",
      "source": [
        "5. Given the string \"abcdefg\", use negative indices to extract and print the substring \"efg\"."
      ],
      "metadata": {
        "id": "K9ewx6fP5pw5"
      }
    },
    {
      "cell_type": "code",
      "source": [
        "string3 = \"abcdefg\"\n",
        "string3[-3:]"
      ],
      "metadata": {
        "colab": {
          "base_uri": "https://localhost:8080/",
          "height": 36
        },
        "id": "IEVfyRZO5wG0",
        "outputId": "8290b1dc-01d6-4e9d-ba0d-9a90d0c4e62e"
      },
      "execution_count": null,
      "outputs": [
        {
          "output_type": "execute_result",
          "data": {
            "text/plain": [
              "'efg'"
            ],
            "application/vnd.google.colaboratory.intrinsic+json": {
              "type": "string"
            }
          },
          "metadata": {},
          "execution_count": 55
        }
      ]
    },
    {
      "cell_type": "markdown",
      "source": [
        "Given the string \"Data Science\", use negative indices to extract and print the last three characters."
      ],
      "metadata": {
        "id": "ppyWY-bq7GDy"
      }
    },
    {
      "cell_type": "code",
      "source": [
        "string3 = \"Data Science\"\n",
        "string3[-3:]"
      ],
      "metadata": {
        "colab": {
          "base_uri": "https://localhost:8080/",
          "height": 36
        },
        "id": "DsAdhpZk7HtC",
        "outputId": "1fe47022-b557-47e0-e900-b07a1a956b5b"
      },
      "execution_count": null,
      "outputs": [
        {
          "output_type": "execute_result",
          "data": {
            "text/plain": [
              "'nce'"
            ],
            "application/vnd.google.colaboratory.intrinsic+json": {
              "type": "string"
            }
          },
          "metadata": {},
          "execution_count": 33
        }
      ]
    },
    {
      "cell_type": "markdown",
      "source": [
        "Given the string \"abcdefghij\", use slicing with a step to print every second character."
      ],
      "metadata": {
        "id": "q-I-ursg7Vpe"
      }
    },
    {
      "cell_type": "code",
      "source": [
        "s = \"abcdefghij\"\n",
        "s[1::2]"
      ],
      "metadata": {
        "colab": {
          "base_uri": "https://localhost:8080/",
          "height": 36
        },
        "id": "FM3--X1q7bl9",
        "outputId": "8c2681dc-88ac-405a-8764-2b836d81da53"
      },
      "execution_count": null,
      "outputs": [
        {
          "output_type": "execute_result",
          "data": {
            "text/plain": [
              "'bdfhj'"
            ],
            "application/vnd.google.colaboratory.intrinsic+json": {
              "type": "string"
            }
          },
          "metadata": {},
          "execution_count": 68
        }
      ]
    },
    {
      "cell_type": "markdown",
      "source": [
        "Given the string \"1234567890\", use slicing with a step to\n",
        "print the odd digits.\n"
      ],
      "metadata": {
        "id": "XxBN5RZjRieS"
      }
    },
    {
      "cell_type": "code",
      "source": [
        "s = '1234567890'\n",
        "s[0::2]"
      ],
      "metadata": {
        "colab": {
          "base_uri": "https://localhost:8080/",
          "height": 36
        },
        "id": "cRNjww1DRjn-",
        "outputId": "30361294-570a-49e5-9779-659e84be3398"
      },
      "execution_count": null,
      "outputs": [
        {
          "output_type": "execute_result",
          "data": {
            "text/plain": [
              "'13579'"
            ],
            "application/vnd.google.colaboratory.intrinsic+json": {
              "type": "string"
            }
          },
          "metadata": {},
          "execution_count": 36
        }
      ]
    },
    {
      "cell_type": "markdown",
      "source": [
        "Given the string \"Hello\", use slicing to print the string in\n",
        "reverse order"
      ],
      "metadata": {
        "id": "z3D4UciXR3uv"
      }
    },
    {
      "cell_type": "code",
      "source": [
        "s = 'Hello'\n",
        "s[4::-1]"
      ],
      "metadata": {
        "colab": {
          "base_uri": "https://localhost:8080/",
          "height": 36
        },
        "id": "m2uuudoTR8bE",
        "outputId": "8e101321-a5cb-4aeb-dc2e-fc233aacdfb6"
      },
      "execution_count": null,
      "outputs": [
        {
          "output_type": "execute_result",
          "data": {
            "text/plain": [
              "'olleH'"
            ],
            "application/vnd.google.colaboratory.intrinsic+json": {
              "type": "string"
            }
          },
          "metadata": {},
          "execution_count": 67
        }
      ]
    },
    {
      "cell_type": "markdown",
      "source": [
        "Given the string \"abcdefghijk\", extract and print the\n",
        "substring \"acegik\" using slicing."
      ],
      "metadata": {
        "id": "h0fAMTF2S338"
      }
    },
    {
      "cell_type": "code",
      "source": [
        "s = \"abcdefghijk\"\n",
        "s[0::2]"
      ],
      "metadata": {
        "colab": {
          "base_uri": "https://localhost:8080/",
          "height": 36
        },
        "id": "gJfJqhRhS4e7",
        "outputId": "557dd161-a850-471e-842a-83caf98aaf25"
      },
      "execution_count": null,
      "outputs": [
        {
          "output_type": "execute_result",
          "data": {
            "text/plain": [
              "'acegik'"
            ],
            "application/vnd.google.colaboratory.intrinsic+json": {
              "type": "string"
            }
          },
          "metadata": {},
          "execution_count": 71
        }
      ]
    }
  ]
}
