{
  "nbformat": 4,
  "nbformat_minor": 0,
  "metadata": {
    "colab": {
      "provenance": [],
      "authorship_tag": "ABX9TyPGez1JWKoVnMM4YVqFMVK+",
      "include_colab_link": true
    },
    "kernelspec": {
      "name": "python3",
      "display_name": "Python 3"
    },
    "language_info": {
      "name": "python"
    }
  },
  "cells": [
    {
      "cell_type": "markdown",
      "metadata": {
        "id": "view-in-github",
        "colab_type": "text"
      },
      "source": [
        "<a href=\"https://colab.research.google.com/github/ansafibrahim/Ibrahim_Python_Code/blob/main/IPythonNotebook2.ipynb\" target=\"_parent\"><img src=\"https://colab.research.google.com/assets/colab-badge.svg\" alt=\"Open In Colab\"/></a>"
      ]
    },
    {
      "cell_type": "markdown",
      "source": [
        "Write a program to find sum of all elements in a list of integers."
      ],
      "metadata": {
        "id": "laH7E7_-HzQ_"
      }
    },
    {
      "cell_type": "code",
      "execution_count": null,
      "metadata": {
        "colab": {
          "base_uri": "https://localhost:8080/"
        },
        "id": "FNHIvFPuFcOQ",
        "outputId": "4652231a-2c72-47d5-a056-684a41fa865b"
      },
      "outputs": [
        {
          "output_type": "stream",
          "name": "stdout",
          "text": [
            "Sum of all elements in a list of integers is 240\n"
          ]
        }
      ],
      "source": [
        "mylist = [22,33,43,56,32,54]\n",
        "Total = sum(mylist)\n",
        "print(f\"Sum of all elements in a list of integers is {Total}\")"
      ]
    },
    {
      "cell_type": "markdown",
      "source": [
        "Input a sentence as a string.\n",
        "a) Print its length\n",
        "b) Print the first half of string"
      ],
      "metadata": {
        "id": "QGY0Vm0eIC05"
      }
    },
    {
      "cell_type": "code",
      "source": [
        "text = \"Welcome to the world of python\"\n",
        "print(len(text))\n",
        "print(text[0:14])"
      ],
      "metadata": {
        "colab": {
          "base_uri": "https://localhost:8080/"
        },
        "id": "Snr-VovQIKVU",
        "outputId": "6156b97b-caec-4360-97fb-26cc5dd94ef0"
      },
      "execution_count": null,
      "outputs": [
        {
          "output_type": "stream",
          "name": "stdout",
          "text": [
            "30\n",
            "Welcome to the\n"
          ]
        }
      ]
    },
    {
      "cell_type": "markdown",
      "source": [
        "Write a program to enter a tuple of integers as (78,45,32,19,82,77,40,39). Change the third value in the tuple to 100"
      ],
      "metadata": {
        "id": "XtMiqVyEIrlD"
      }
    },
    {
      "cell_type": "code",
      "source": [
        "tuple1 = (78,45,32,19,82,77,40,39)\n",
        "list1 = list(tuple1)\n",
        "list1[2]=100\n",
        "tuple1 = tuple(list1)\n",
        "print(tuple1)"
      ],
      "metadata": {
        "colab": {
          "base_uri": "https://localhost:8080/"
        },
        "id": "z5hZEMjbJKLH",
        "outputId": "5a475fe0-7a5e-491e-e5c4-849cc7a4306c"
      },
      "execution_count": 1,
      "outputs": [
        {
          "output_type": "stream",
          "name": "stdout",
          "text": [
            "(78, 45, 100, 19, 82, 77, 40, 39)\n"
          ]
        }
      ]
    },
    {
      "cell_type": "markdown",
      "source": [
        "Consider a list listA=[19,32,10,55,31,32,94,29,10,65,77,40,40]\n",
        "(a) Delete the first occurrence of 32\n",
        "(b) Delete all occurrences of 40\n",
        "(c) Delete the value at index=5\n",
        "(d) Modify the value at index=9 as 300\n",
        "(e) Add 200 at index=2\n",
        "(f) Print the final list with its length, maximum value\n",
        "and sum of all elements\n"
      ],
      "metadata": {
        "id": "MR0AnaoxQoJy"
      }
    },
    {
      "cell_type": "code",
      "source": [
        "listA=[19,32,10,55,31,32,94,29,10,65,77,40,40]\n",
        "listA.remove(32)\n",
        "print(listA)"
      ],
      "metadata": {
        "colab": {
          "base_uri": "https://localhost:8080/"
        },
        "id": "UsaXKQQHQtQZ",
        "outputId": "eb012576-fbba-4c69-d758-4030475e4db7"
      },
      "execution_count": null,
      "outputs": [
        {
          "output_type": "stream",
          "name": "stdout",
          "text": [
            "[19, 10, 55, 31, 32, 94, 29, 10, 65, 77, 40, 40]\n"
          ]
        }
      ]
    },
    {
      "cell_type": "code",
      "source": [
        "listA = [19, 10, 55, 31, 32, 94, 29, 10, 65, 77, 40, 40]\n",
        "listA.pop(11)\n",
        "listA.pop(10)\n",
        "print(listA)"
      ],
      "metadata": {
        "colab": {
          "base_uri": "https://localhost:8080/"
        },
        "id": "UTDbtsjmVIIc",
        "outputId": "f2a47f04-1776-4745-aecc-3def61c0ce41"
      },
      "execution_count": null,
      "outputs": [
        {
          "output_type": "stream",
          "name": "stdout",
          "text": [
            "[19, 10, 55, 31, 32, 94, 29, 10, 65, 77]\n"
          ]
        }
      ]
    },
    {
      "cell_type": "code",
      "source": [
        "listA.pop(5)\n",
        "print(listA)"
      ],
      "metadata": {
        "colab": {
          "base_uri": "https://localhost:8080/"
        },
        "id": "kAMCXZthYa5v",
        "outputId": "e36a3722-d235-416d-a36e-b10a01d30680"
      },
      "execution_count": null,
      "outputs": [
        {
          "output_type": "stream",
          "name": "stdout",
          "text": [
            "[19, 10, 55, 31, 32, 29, 10, 65, 77]\n"
          ]
        }
      ]
    },
    {
      "cell_type": "code",
      "source": [
        "listA[8] = 300\n",
        "print(listA)"
      ],
      "metadata": {
        "colab": {
          "base_uri": "https://localhost:8080/"
        },
        "id": "LTLktJLtYrfo",
        "outputId": "8a12eb47-65ce-4725-82c1-a2ff0222caad"
      },
      "execution_count": null,
      "outputs": [
        {
          "output_type": "stream",
          "name": "stdout",
          "text": [
            "[19, 10, 55, 31, 32, 29, 10, 65, 300]\n"
          ]
        }
      ]
    },
    {
      "cell_type": "code",
      "source": [
        "listA = [19, 10, 55, 31, 32, 29, 10, 65, 300]\n",
        "listA.insert(2,200)\n",
        "print(f\"listA = {listA}\")\n",
        "print(f\"Length of the list is {len(listA)}\")\n",
        "print(f\"maximum value is {max(listA)}\")\n",
        "print(f\"sum of the list is {sum(listA)}\")"
      ],
      "metadata": {
        "colab": {
          "base_uri": "https://localhost:8080/"
        },
        "id": "uYKTV3vBZPZB",
        "outputId": "9139a7d2-2808-41ea-ca9e-699379346cce"
      },
      "execution_count": null,
      "outputs": [
        {
          "output_type": "stream",
          "name": "stdout",
          "text": [
            "listA = [19, 10, 200, 55, 31, 32, 29, 10, 65, 300]\n",
            "Length of the list is 10\n",
            "maximum value is 300\n",
            "sum of the list is 751\n"
          ]
        }
      ]
    },
    {
      "cell_type": "markdown",
      "source": [
        "Consider a string ”The day has been long”.\n",
        "(a) Delete the value at index =4\n",
        "(b) Print the string 4 times in a single line with space\n",
        "between each repetition\n",
        "(c) Print the string 3 times in a new line each time\n",
        "(d) Modify the string at index 7 as ’A’\n",
        "(e) Print the string from index 4 to 15\n",
        "(f) Print the final string with its length"
      ],
      "metadata": {
        "id": "4Drd3fKt4A8C"
      }
    },
    {
      "cell_type": "code",
      "source": [
        "text4 = \"The day has been long\"\n",
        "text4 = text4[:4] + text4[5:]\n",
        "text4"
      ],
      "metadata": {
        "colab": {
          "base_uri": "https://localhost:8080/",
          "height": 36
        },
        "id": "6f_x1egZ0Eua",
        "outputId": "d1eba271-0c4f-406c-885a-8fab82262424"
      },
      "execution_count": 23,
      "outputs": [
        {
          "output_type": "execute_result",
          "data": {
            "text/plain": [
              "'The ay has been long'"
            ],
            "application/vnd.google.colaboratory.intrinsic+json": {
              "type": "string"
            }
          },
          "metadata": {},
          "execution_count": 23
        }
      ]
    },
    {
      "cell_type": "code",
      "source": [
        "text4\n",
        "print((text4+\" \")*4)"
      ],
      "metadata": {
        "colab": {
          "base_uri": "https://localhost:8080/"
        },
        "id": "plcdKJbr4Cgt",
        "outputId": "8520752d-3659-477f-a51d-90dd27a7983f"
      },
      "execution_count": 39,
      "outputs": [
        {
          "output_type": "stream",
          "name": "stdout",
          "text": [
            "The ay has been long The ay has been long The ay has been long The ay has been long \n"
          ]
        }
      ]
    },
    {
      "cell_type": "code",
      "source": [
        "text4\n",
        "print((text4+\"\\n\")*3)"
      ],
      "metadata": {
        "colab": {
          "base_uri": "https://localhost:8080/"
        },
        "id": "5Bv7_jiT5tSd",
        "outputId": "8810fec8-1e84-4121-d0f5-c3ad2fa21a29"
      },
      "execution_count": 46,
      "outputs": [
        {
          "output_type": "stream",
          "name": "stdout",
          "text": [
            "The ay has been long\n",
            "The ay has been long\n",
            "The ay has been long\n",
            "\n"
          ]
        }
      ]
    },
    {
      "cell_type": "code",
      "source": [
        "text4\n",
        "text4 = text4[:7]+\"A\"+text4[8:]\n",
        "text4"
      ],
      "metadata": {
        "colab": {
          "base_uri": "https://localhost:8080/",
          "height": 36
        },
        "id": "0e7Oa_ba6Lk4",
        "outputId": "3240900a-fc54-455e-bebf-a41604ec2924"
      },
      "execution_count": 54,
      "outputs": [
        {
          "output_type": "execute_result",
          "data": {
            "text/plain": [
              "'The ay Aas been long'"
            ],
            "application/vnd.google.colaboratory.intrinsic+json": {
              "type": "string"
            }
          },
          "metadata": {},
          "execution_count": 54
        }
      ]
    },
    {
      "cell_type": "code",
      "source": [
        "print(text4[4:16])"
      ],
      "metadata": {
        "colab": {
          "base_uri": "https://localhost:8080/"
        },
        "id": "DPAWxRXx7I8N",
        "outputId": "501b445b-027e-41a4-9515-5e06b353edc7"
      },
      "execution_count": 56,
      "outputs": [
        {
          "output_type": "stream",
          "name": "stdout",
          "text": [
            "ay Aas been \n"
          ]
        }
      ]
    },
    {
      "cell_type": "code",
      "source": [
        "print(len(text4))"
      ],
      "metadata": {
        "colab": {
          "base_uri": "https://localhost:8080/"
        },
        "id": "usUwtno17a2j",
        "outputId": "e4877c4d-0da9-4be5-90bb-065832e44e29"
      },
      "execution_count": 57,
      "outputs": [
        {
          "output_type": "stream",
          "name": "stdout",
          "text": [
            "20\n"
          ]
        }
      ]
    }
  ]
}
