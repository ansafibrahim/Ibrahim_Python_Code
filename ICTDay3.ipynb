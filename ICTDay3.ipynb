{
  "nbformat": 4,
  "nbformat_minor": 0,
  "metadata": {
    "colab": {
      "provenance": [],
      "authorship_tag": "ABX9TyPZJs6IbthB7gzmzymkHiNW",
      "include_colab_link": true
    },
    "kernelspec": {
      "name": "python3",
      "display_name": "Python 3"
    },
    "language_info": {
      "name": "python"
    }
  },
  "cells": [
    {
      "cell_type": "markdown",
      "metadata": {
        "id": "view-in-github",
        "colab_type": "text"
      },
      "source": [
        "<a href=\"https://colab.research.google.com/github/ansafibrahim/Ibrahim_Python_Code/blob/main/ICTDay3.ipynb\" target=\"_parent\"><img src=\"https://colab.research.google.com/assets/colab-badge.svg\" alt=\"Open In Colab\"/></a>"
      ]
    },
    {
      "cell_type": "markdown",
      "source": [
        "1. Given the participants' score sheet for your University Sports Day, you are required to find the runner-up score. You are given scores. Store them in a list and find the score of the runner-up. (Create an array of scores and print the runner up score)"
      ],
      "metadata": {
        "id": "O_pYMI_Yr0UT"
      }
    },
    {
      "cell_type": "code",
      "source": [
        "scores = [20,33, 64, 62, 5]\n",
        "scores1=sorted(scores)\n",
        "print(f\"The runnerup score is {scores1[3]}  \")\n"
      ],
      "metadata": {
        "colab": {
          "base_uri": "https://localhost:8080/"
        },
        "id": "6USGAnfJpUyd",
        "outputId": "93a45952-54a0-4b9a-fd5c-698b36f2332d"
      },
      "execution_count": 16,
      "outputs": [
        {
          "output_type": "stream",
          "name": "stdout",
          "text": [
            "The runnerup score is 62  \n"
          ]
        }
      ]
    },
    {
      "cell_type": "markdown",
      "source": [
        "A dictionary is given D={‘John’ [25,32,43],’Peter’:[87,55,96],’Ram’:[58,55,43],’Meena’:[63,79,85]}. Get a name from user if the name in the dictionary change the values corresponding to that user to [88,77,99] and print the dictionary. Else print ‘Name not found’.\n"
      ],
      "metadata": {
        "id": "fRXIlZobr86J"
      }
    },
    {
      "cell_type": "code",
      "source": [
        "D = {'John':[25, 32, 43],'Peter':[87, 55, 96],'Ram':[58, 55, 43],'Meena':[63, 79, 85]}\n",
        "\n",
        "name = input(\"Enter a name: \")\n",
        "if name in D:\n",
        "    D[name] = [88, 77, 99]\n",
        "    print(\"Values has been changed\")\n",
        "    print(D)\n",
        "else:\n",
        "    print(\"Name not found.\")"
      ],
      "metadata": {
        "colab": {
          "base_uri": "https://localhost:8080/"
        },
        "id": "wHJXesmtm796",
        "outputId": "30625046-257a-4a42-a7e9-b47dce32f5e2"
      },
      "execution_count": null,
      "outputs": [
        {
          "output_type": "stream",
          "name": "stdout",
          "text": [
            "Enter a name: Peter\n",
            "Values has been changed\n",
            "{'John': [25, 32, 43], 'Peter': [88, 77, 99], 'Ram': [58, 55, 43], 'Meena': [63, 79, 85]}\n"
          ]
        }
      ]
    },
    {
      "cell_type": "markdown",
      "source": [
        "**Ticket Price Calculator:**\n",
        "I. Ask the user to enter their age.\n",
        "II. Use control statements (if-elif-else) to calculate the ticket price based on the\n",
        "following conditions:\n",
        "a. If the age is below 5, the ticket price is free.\n",
        "b. If the age is between 5 and 12 (inclusive), the ticket price is Rs.10.\n",
        "c. If the age is above 12, the ticket price is Rs.50.\n",
        "d. If the age is above 60, the ticket price is free.\n",
        "e. If the gender is female, the ticket price is 50% of the applicable rates.\n",
        "III. Display the ticket price to the user."
      ],
      "metadata": {
        "id": "PvzSyQ8NsE7X"
      }
    },
    {
      "cell_type": "code",
      "source": [
        "while True:\n",
        "    age = input(\"Enter your age: \")\n",
        "    if age == 'quit':\n",
        "        break\n",
        "    gender = input(\"Enter your gender: \")\n",
        "    age = int(age)\n",
        "    if age < 5 and gender == 'male':\n",
        "        print(\"You get in free!\")\n",
        "    elif 5 <= age <= 12 and gender == 'male':\n",
        "        print(\"Your ticket is Rs 10.\")\n",
        "    elif 12 < age <= 60 and gender == 'male':\n",
        "        print(\"Your ticket is Rs 50.\")\n",
        "    elif age > 60 and gender == 'male':\n",
        "        print(\"You get in free!\")\n",
        "    elif age < 5 and gender == 'female':\n",
        "        print(\"You get in free!\")\n",
        "    elif 5 <= age <= 12 and gender == 'female':\n",
        "        print(\"Your ticket is Rs 5.\")\n",
        "    elif 12 < age <= 60 and gender == 'female':\n",
        "        print(\"Your ticket is Rs 25.\")\n",
        "    else:\n",
        "        print(\"Ticket is free\")"
      ],
      "metadata": {
        "colab": {
          "base_uri": "https://localhost:8080/"
        },
        "id": "8DPwCl9Oc8ez",
        "outputId": "9cf41caf-0272-4135-9f1e-6f9be9d32a80"
      },
      "execution_count": null,
      "outputs": [
        {
          "name": "stdout",
          "output_type": "stream",
          "text": [
            "Enter your age: 22\n",
            "Enter your gender: female\n",
            "Your ticket is Rs 25.\n",
            "Enter your age: quit\n"
          ]
        }
      ]
    }
  ]
}